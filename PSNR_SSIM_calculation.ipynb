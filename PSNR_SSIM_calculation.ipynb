{
 "cells": [
  {
   "cell_type": "code",
   "execution_count": null,
   "metadata": {},
   "outputs": [],
   "source": [
    "import re\n",
    "import glob\n",
    "from skimage.metrics import peak_signal_noise_ratio as psnr\n",
    "from skimage.metrics import structural_similarity as ssim\n",
    "import cv2\n",
    "import numpy as np\n",
    "import matplotlib.pyplot as plt"
   ]
  },
  {
   "cell_type": "code",
   "execution_count": null,
   "metadata": {},
   "outputs": [],
   "source": [
    "orig_dir = glob.glob('directory for origninal images')\n",
    "denoised_dir = glob.glob('directory for denoised images')"
   ]
  },
  {
   "cell_type": "code",
   "execution_count": null,
   "metadata": {},
   "outputs": [],
   "source": [
    "name = list()\n",
    "\n",
    "for i in orig_dir:\n",
    "    y = x.split('\\\\')[-1]\n",
    "    name.append(y)"
   ]
  },
  {
   "cell_type": "code",
   "execution_count": null,
   "metadata": {},
   "outputs": [],
   "source": [
    "psnr_list = list()\n",
    "ssim_list = list()\n",
    "\n",
    "for i in range(len(name)):\n",
    "    p1 = 'directory for original images/'+name[i]\n",
    "    org = cv2.imread(p1)\n",
    "    x = org/255\n",
    "    \n",
    "    p2 = 'directory for denoised images/'+name[i]\n",
    "    denoised = cv2.imread(p2)\n",
    "    y = denoised/255\n",
    "    \n",
    "    t1 = psnr(x, y)\n",
    "    t2 = ssim(x, y, multichannel=True)\n",
    "    \n",
    "    psnr_list.append(t1)\n",
    "    ssim_list.append(t2)\n",
    "\n",
    "psnr_list = np.asarray(psnr_list)\n",
    "ssim_list = np.asarray(ssim_list)\n",
    "\n",
    "print(np.average(psnr_list), np.average(ssim_list))"
   ]
  },
  {
   "cell_type": "code",
   "execution_count": null,
   "metadata": {},
   "outputs": [],
   "source": []
  }
 ],
 "metadata": {
  "kernelspec": {
   "display_name": "Python 3.8 (pytest)",
   "language": "python",
   "name": "pytest"
  },
  "language_info": {
   "codemirror_mode": {
    "name": "ipython",
    "version": 3
   },
   "file_extension": ".py",
   "mimetype": "text/x-python",
   "name": "python",
   "nbconvert_exporter": "python",
   "pygments_lexer": "ipython3",
   "version": "3.8.8"
  }
 },
 "nbformat": 4,
 "nbformat_minor": 5
}
